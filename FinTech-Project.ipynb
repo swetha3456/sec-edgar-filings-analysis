{
 "cells": [
  {
   "cell_type": "code",
   "execution_count": 2,
   "id": "57fd0eeb",
   "metadata": {},
   "outputs": [
    {
     "name": "stdout",
     "output_type": "stream",
     "text": [
      "Requirement already satisfied: sec-edgar-downloader in c:\\users\\windows 10\\appdata\\local\\programs\\python\\python311\\lib\\site-packages (5.0.2)\n",
      "Requirement already satisfied: requests in c:\\users\\windows 10\\appdata\\local\\programs\\python\\python311\\lib\\site-packages (from sec-edgar-downloader) (2.28.2)\n",
      "Requirement already satisfied: pyrate-limiter>=3.1.0 in c:\\users\\windows 10\\appdata\\local\\programs\\python\\python311\\lib\\site-packages (from sec-edgar-downloader) (3.6.0)\n",
      "Requirement already satisfied: charset-normalizer<4,>=2 in c:\\users\\windows 10\\appdata\\local\\programs\\python\\python311\\lib\\site-packages (from requests->sec-edgar-downloader) (3.1.0)\n",
      "Requirement already satisfied: idna<4,>=2.5 in c:\\users\\windows 10\\appdata\\local\\programs\\python\\python311\\lib\\site-packages (from requests->sec-edgar-downloader) (3.4)\n",
      "Requirement already satisfied: urllib3<1.27,>=1.21.1 in c:\\users\\windows 10\\appdata\\local\\programs\\python\\python311\\lib\\site-packages (from requests->sec-edgar-downloader) (1.26.15)\n",
      "Requirement already satisfied: certifi>=2017.4.17 in c:\\users\\windows 10\\appdata\\local\\programs\\python\\python311\\lib\\site-packages (from requests->sec-edgar-downloader) (2022.12.7)\n",
      "Note: you may need to restart the kernel to use updated packages.\n"
     ]
    },
    {
     "name": "stderr",
     "output_type": "stream",
     "text": [
      "\n",
      "[notice] A new release of pip is available: 23.1.2 -> 24.0\n",
      "[notice] To update, run: python.exe -m pip install --upgrade pip\n"
     ]
    }
   ],
   "source": [
    "%pip install -U sec-edgar-downloader"
   ]
  },
  {
   "cell_type": "code",
   "execution_count": 3,
   "id": "3946355e",
   "metadata": {},
   "outputs": [],
   "source": [
    "from sec_edgar_downloader import Downloader\n",
    "from mediapipe.tasks.python import text\n",
    "import os"
   ]
  },
  {
   "cell_type": "code",
   "execution_count": null,
   "id": "0dea273a",
   "metadata": {},
   "outputs": [],
   "source": [
    "# Downloading 10-K data of Apple and Microsoft for the years 1995-2023\n",
    "comp = input(\"Enter company: \")\n",
    "email = input(\"Enter email: \")\n",
    "\n",
    "companies = [\"AAPL\", \"MSFT\"]\n",
    "\n",
    "dl = Downloader(comp, email)\n",
    "\n",
    "for company in companies:\n",
    "    dl.get(\"10-K\", company, after=\"1995-01-01\", before=\"2023-12-31\")"
   ]
  },
  {
   "cell_type": "code",
   "execution_count": null,
   "id": "9a956daf",
   "metadata": {},
   "outputs": [],
   "source": [
    "# Loading the downloaded data\n",
    "\n",
    "for company in companies:\n",
    "    folder_dir = f\"sec-edgar-filings/{company}/10-K/\"\n",
    "    \n",
    "    for subfolder in os.listdir(folder_dir):\n",
    "        with open(folder_dir + subfolder + \"/full-submission.txt\") as f:\n",
    "            print(f.read(10))"
   ]
  },
  {
   "cell_type": "code",
   "execution_count": null,
   "id": "67a2fb75",
   "metadata": {},
   "outputs": [],
   "source": []
  }
 ],
 "metadata": {
  "kernelspec": {
   "display_name": "Python 3 (ipykernel)",
   "language": "python",
   "name": "python3"
  },
  "language_info": {
   "codemirror_mode": {
    "name": "ipython",
    "version": 3
   },
   "file_extension": ".py",
   "mimetype": "text/x-python",
   "name": "python",
   "nbconvert_exporter": "python",
   "pygments_lexer": "ipython3",
   "version": "3.11.4"
  }
 },
 "nbformat": 4,
 "nbformat_minor": 5
}
